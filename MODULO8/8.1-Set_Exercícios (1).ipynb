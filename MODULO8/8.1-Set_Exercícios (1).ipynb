{
 "cells": [
  {
   "cell_type": "markdown",
   "id": "31e96c4d",
   "metadata": {},
   "source": [
    "# Set\n",
    "\n",
    "## Aula 8.1"
   ]
  },
  {
   "cell_type": "markdown",
   "id": "3bd245f6",
   "metadata": {},
   "source": [
    "### Q1. \n",
    "\n",
    "Dada uma string qualquer, use seu conhecimento de sets para apresentar os caracteres únicos que aparecem na string, ordenados alfabeticamente e sem duplicatas. Preste atenção em duplicatas de maiúsculas e minúsculas."
   ]
  },
  {
   "cell_type": "code",
   "execution_count": null,
   "id": "88e3d9a2",
   "metadata": {},
   "outputs": [],
   "source": [
    "frase = \"O rato roeu a roupa do Robson\"\n",
    "\n",
    "# Converter tudo para minúsculas\n",
    "frase = frase.lower()\n",
    "# Filtrar apenas letras\n",
    "caracteres = [c for c in frase if c.isalpha()]\n",
    "# Usar set e ordenar\n",
    "caracteres_unicos = sorted(set(caracteres))\n",
    "print(caracteres_unicos)"
   ]
  },
  {
   "cell_type": "markdown",
   "id": "33b04ef8",
   "metadata": {},
   "source": [
    "### Q2\n",
    "\n",
    "Desenvolva uma função em Python chamada ```tem_elementos_comuns()``` que recebe duas listas como parâmetros e retorna True se houver algum elemento comum entre as duas listas, e False caso contrário. Utilize sets para resolver essa tarefa."
   ]
  },
  {
   "cell_type": "code",
   "execution_count": null,
   "id": "7591564d",
   "metadata": {},
   "outputs": [],
   "source": [
    "def tem_elementos_comuns(lista1, lista2):\n",
    "    return bool(set(lista1) & set(lista2))"
   ]
  },
  {
   "cell_type": "code",
   "execution_count": null,
   "id": "ef2d882a",
   "metadata": {},
   "outputs": [],
   "source": [
    "# Execute esta célula para testar a função da Q2.\n",
    "lista1 = [1, 2, 3, 4]\n",
    "lista2 = [3, 4, 5, 6, 7]\n",
    "resultado = tem_elementos_comuns(lista1, lista2)\n",
    "print(resultado)  # Saída esperada: True"
   ]
  },
  {
   "cell_type": "markdown",
   "id": "7bfdccf4",
   "metadata": {},
   "source": [
    "### Q3. \n",
    "\n",
    "Você vai coletar de diferentes turmas de alunos seus interesses em atividades extra curriculares dentre futebol, vôlei, rugby, música, teatro, ações comunitárias. Informe o conjunto de atividades comuns a todas a turmas. Pode preencher o iterável turmas com valores arbitrários."
   ]
  },
  {
   "cell_type": "code",
   "execution_count": null,
   "id": "697a443a",
   "metadata": {},
   "outputs": [],
   "source": [
    "turmas = [\n",
    "    {'ações comunitárias', 'futebol', 'música', 'rugby'},\n",
    "    {'ações comunitárias', 'música', 'rugby', 'teatro'},\n",
    "    {'música', 'rugby', 'teatro', 'vôlei'},\n",
    "    {'música', 'vôlei', 'rugby'},\n",
    "    {'ações comunitárias', 'futebol', 'rugby', 'teatro', 'vôlei'},\n",
    "    {'ações comunitárias', 'futebol', 'rugby'},\n",
    "    {'ações comunitárias', 'rugby', 'teatro', 'vôlei'},\n",
    "    {'ações comunitárias', 'rugby', 'teatro', 'vôlei'},\n",
    "    {'ações comunitárias', 'rugby', 'vôlei'}\n",
    "]\n",
    "\n",
    "comuns = set.intersection(*turmas)\n",
    "print(comuns)"
   ]
  },
  {
   "cell_type": "markdown",
   "id": "71b97a53",
   "metadata": {},
   "source": [
    "### Q4. \n",
    "Considere duas listas que são duplicatas uma da outra, exceto por um elemento, exemplo:\n",
    "```\n",
    "A = [1, 4, 5, 7, 9]\n",
    "B = [4, 5, 7, 9]\n",
    "```\n",
    "\n",
    "Encontre e apresente o elemento diferente, informando também qual das listas está desfalcada."
   ]
  },
  {
   "cell_type": "code",
   "execution_count": null,
   "id": "f36c5694",
   "metadata": {},
   "outputs": [],
   "source": [
    "A = [1, 4, 5, 7, 9]\n",
    "B = [4, 5, 7, 9]\n",
    "\n",
    "set_A = set(A)\n",
    "set_B = set(B)\n",
    "\n",
    "if len(set_A) > len(set_B):\n",
    "    diferenca = set_A - set_B\n",
    "    print(f\"O elemento {list(diferenca)[0]} está faltando na segunda lista\")\n",
    "else:\n",
    "    diferenca = set_B - set_A\n",
    "    print(f\"O elemento {list(diferenca)[0]} está faltando na primeira lista\")"
   ]
  }
 ],
 "metadata": {},
 "nbformat": 4,
 "nbformat_minor": 5
}
