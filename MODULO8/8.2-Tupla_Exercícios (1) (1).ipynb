{
 "cells": [
  {
   "cell_type": "markdown",
   "id": "8f600568",
   "metadata": {},
   "source": [
    "### Q1. Função calcula_area_perimetro(dimensoes)"
   ]
  },
  {
   "cell_type": "code",
   "execution_count": null,
   "id": "c5b8e560",
   "metadata": {},
   "outputs": [],
   "source": [
    "def calcula_area_perimetro(dimensoes):\n",
    "    largura, comprimento = dimensoes\n",
    "    area = largura * comprimento\n",
    "    perimetro = 2 * (largura + comprimento)\n",
    "    return (area, perimetro)\n",
    "\n",
    "largura = 5\n",
    "comprimento = 7\n",
    "\n",
    "retorno = calcula_area_perimetro((largura, comprimento))\n",
    "print(retorno, type(retorno))  # (35, 24) <class 'tuple'>"
   ]
  },
  {
   "cell_type": "markdown",
   "id": "7ccaa3fa",
   "metadata": {},
   "source": [
    "### Q2. Vogais e índices com enumerate"
   ]
  },
  {
   "cell_type": "code",
   "execution_count": null,
   "id": "d426e87f",
   "metadata": {},
   "outputs": [],
   "source": [
    "frase = \"O rato roeu a roupa da Alice\"\n",
    "vogais = \"aeiouAEIOU\"\n",
    "\n",
    "for indice, caractere in enumerate(frase):\n",
    "    if caractere in vogais:\n",
    "        print(f\"Vogal: {caractere} - Índice: {indice}\")"
   ]
  },
  {
   "cell_type": "markdown",
   "id": "fe83bf96",
   "metadata": {},
   "source": [
    "### Q3. Ordenar lista de tuplas (nome, média) por média decrescente"
   ]
  },
  {
   "cell_type": "code",
   "execution_count": null,
   "id": "d559a71d",
   "metadata": {},
   "outputs": [],
   "source": [
    "def ordenar_tuplas(lista):\n",
    "    return sorted(lista, key=lambda x: x[1], reverse=True)\n",
    "\n",
    "# Exemplo de uso:\n",
    "alunos_notas = [('Alice', 8.5), ('Bob', 7.2), ('Charlie', 9.0), ('David', 8.8)]\n",
    "resultado = ordenar_tuplas(alunos_notas)\n",
    "print(resultado)\n",
    "# Saída esperada: [('Charlie', 9.0), ('David', 8.8), ('Alice', 8.5), ('Bob', 7.2)]"
   ]
  },
  {
   "cell_type": "markdown",
   "id": "91827662",
   "metadata": {},
   "source": [
    "### Q4. comprimir_tuplas(lista)"
   ]
  },
  {
   "cell_type": "code",
   "execution_count": null,
   "id": "b3257059",
   "metadata": {},
   "outputs": [],
   "source": [
    "def comprimir_tuplas(lista):\n",
    "    resultado = {}\n",
    "    for palavra, numero in lista:\n",
    "        if palavra in resultado:\n",
    "            resultado[palavra] += numero\n",
    "        else:\n",
    "            resultado[palavra] = numero\n",
    "    return list(resultado.items())\n",
    "\n",
    "# Exemplo de uso:\n",
    "tuplas_originais = [('maçã', 3), ('banana', 2), ('maçã', 5), ('laranja', 1), ('banana', 3)]\n",
    "resultado = comprimir_tuplas(tuplas_originais)\n",
    "print(resultado)\n",
    "# Saída esperada: [('maçã', 8), ('banana', 5), ('laranja', 1)]"
   ]
  },
  {
   "cell_type": "markdown",
   "id": "72070e2f",
   "metadata": {},
   "source": [
    "### Q5. Script da fila da balada"
   ]
  },
  {
   "cell_type": "code",
   "execution_count": null,
   "id": "f9af8987",
   "metadata": {},
   "outputs": [],
   "source": [
    "# Lista para armazenar as pessoas\n",
    "pessoas = []\n",
    "\n",
    "# Exemplo fixo (substituir por input se for em uso interativo)\n",
    "dados = [(\"João\", 17), (\"Ana\", 20), (\"Marcos\", 16), (\"Beatriz\", 22), (\"Lara\", 15)]\n",
    "\n",
    "for nome, idade in dados:\n",
    "    pessoas.append((nome, idade))\n",
    "\n",
    "# Separar os grupos\n",
    "menores = tuple([nome for nome, idade in pessoas if idade < 18])\n",
    "maiores = tuple([nome for nome, idade in pessoas if idade >= 18])\n",
    "\n",
    "print(\"Menores de idade:\", menores)\n",
    "print(\"Maiores de idade:\", maiores)"
   ]
  }
 ],
 "metadata": {},
 "nbformat": 4,
 "nbformat_minor": 5
}
