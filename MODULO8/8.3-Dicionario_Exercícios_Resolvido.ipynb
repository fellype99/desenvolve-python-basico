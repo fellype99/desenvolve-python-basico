{
 "cells": [
  {
   "cell_type": "markdown",
   "id": "cece74cd",
   "metadata": {},
   "source": [
    "# Dicionários\n",
    "\n",
    "## Aula 8.3"
   ]
  },
  {
   "cell_type": "markdown",
   "id": "b497417d",
   "metadata": {},
   "source": [
    "### Q1\n",
    "Escreva uma função em Python chamada `contagem_caracteres` que recebe uma string como parâmetro e retorna um dicionário onde as chaves são os caracteres presentes na string e os valores são a contagem de cada caractere."
   ]
  },
  {
   "cell_type": "code",
   "execution_count": null,
   "id": "3617b8e2",
   "metadata": {},
   "outputs": [],
   "source": [
    "def contagem_caracteres(texto):\n",
    "    contagem = {}\n",
    "    for caractere in texto:\n",
    "        if caractere in contagem:\n",
    "            contagem[caractere] += 1\n",
    "        else:\n",
    "            contagem[caractere] = 1\n",
    "    return contagem\n",
    "\n",
    "# Exemplo de uso:\n",
    "frase = \"python programming\"\n",
    "resultado = contagem_caracteres(frase)\n",
    "print(resultado)"
   ]
  },
  {
   "cell_type": "markdown",
   "id": "caa8a17f",
   "metadata": {},
   "source": [
    "### Q2\n",
    "Baixe o arquivo contendo o roteiro do filme brasileiro \"Estômago\" e salve como `estomago.txt`."
   ]
  },
  {
   "cell_type": "code",
   "execution_count": null,
   "id": "23e6c4ff",
   "metadata": {},
   "outputs": [],
   "source": [
    "from collections import Counter\n",
    "import string\n",
    "\n",
    "# Carregar o texto do roteiro\n",
    "with open(\"estomago.txt\", \"r\", encoding=\"utf-8\") as f:\n",
    "    texto = f.read()\n",
    "\n",
    "# Pré-processamento\n",
    "texto = texto.lower()\n",
    "texto = texto.translate(str.maketrans(\"\", \"\", string.punctuation))\n",
    "palavras = texto.split()\n",
    "\n",
    "# Contagem\n",
    "contagem = Counter(palavras)\n",
    "ordenado = dict(contagem.most_common())\n",
    "\n",
    "# Exibir as 20 palavras mais frequentes\n",
    "for palavra, freq in list(ordenado.items())[:20]:\n",
    "    print(f\"{palavra}: {freq}\")"
   ]
  },
  {
   "cell_type": "markdown",
   "id": "4eb1d610",
   "metadata": {},
   "source": [
    "### Q3\n",
    "Crie uma função chamada `mesclar_dicionarios` que recebe dois dicionários e retorna a fusão, onde o maior valor prevalece para chaves repetidas."
   ]
  },
  {
   "cell_type": "code",
   "execution_count": null,
   "id": "cca1392e",
   "metadata": {},
   "outputs": [],
   "source": [
    "def mesclar_dicionarios(d1, d2):\n",
    "    resultado = d1.copy()\n",
    "    for chave, valor in d2.items():\n",
    "        if chave in resultado:\n",
    "            resultado[chave] = max(resultado[chave], valor)\n",
    "        else:\n",
    "            resultado[chave] = valor\n",
    "    return resultado\n",
    "\n",
    "# Exemplo\n",
    "d1 = {'a': 1, 'b': 2, 'c': 3}\n",
    "d2 = {'b': 4, 'd': 5}\n",
    "print(mesclar_dicionarios(d1, d2))"
   ]
  },
  {
   "cell_type": "markdown",
   "id": "168b6de8",
   "metadata": {},
   "source": [
    "### Q4\n",
    "Desenvolva a função `filtrar_dicionario` que recebe um dicionário e uma lista de chaves, retornando apenas as chaves filtradas."
   ]
  },
  {
   "cell_type": "code",
   "execution_count": null,
   "id": "661ec556",
   "metadata": {},
   "outputs": [],
   "source": [
    "def filtrar_dicionario(dicionario, chaves):\n",
    "    return {chave: dicionario[chave] for chave in chaves if chave in dicionario}\n",
    "\n",
    "# Exemplo\n",
    "dados = {'a': 1, 'b': 2, 'c': 3, 'd': 4, 'e': 5}\n",
    "chaves_filtradas = ['a', 'c', 'e']\n",
    "print(filtrar_dicionario(dados, chaves_filtradas))"
   ]
  },
  {
   "cell_type": "markdown",
   "id": "11d6abf8",
   "metadata": {},
   "source": [
    "### Q5\n",
    "Crie a função `resultado_votacao` que recebe uma lista de dicionários representando votos e retorna o total e o percentual de cada candidato."
   ]
  },
  {
   "cell_type": "code",
   "execution_count": null,
   "id": "87cda512",
   "metadata": {},
   "outputs": [],
   "source": [
    "def resultado_votacao(lista_votos):\n",
    "    total_por_candidato = {}\n",
    "    total_geral = 0\n",
    "\n",
    "    for sessao in lista_votos:\n",
    "        for candidato, votos in sessao.items():\n",
    "            total_por_candidato[candidato] = total_por_candidato.get(candidato, 0) + votos\n",
    "            total_geral += votos\n",
    "\n",
    "    resultado = {\n",
    "        candidato: (total, round((total / total_geral) * 100, 2))\n",
    "        for candidato, total in total_por_candidato.items()\n",
    "    }\n",
    "\n",
    "    return resultado\n",
    "\n",
    "# Exemplo\n",
    "votos = [\n",
    "    {'candidato_A': 120, 'candidato_B': 85, 'candidato_C': 90},\n",
    "    {'candidato_A': 110, 'candidato_B': 95, 'candidato_C': 80},\n",
    "    {'candidato_A': 130, 'candidato_B': 78, 'candidato_C': 105},\n",
    "]\n",
    "print(resultado_votacao(votos))"
   ]
  }
 ],
 "metadata": {},
 "nbformat": 4,
 "nbformat_minor": 5
}
